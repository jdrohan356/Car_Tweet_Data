{
 "cells": [
  {
   "cell_type": "code",
   "execution_count": 12,
   "id": "daeac70b-2769-4221-9566-37e8884c1501",
   "metadata": {},
   "outputs": [],
   "source": [
    "import string\n",
    "from textblob import TextBlob\n",
    "from textblob import Word\n",
    "\n",
    "import nltk\n",
    "import os\n",
    "import pandas as pd\n",
    "import tweepy\n",
    "import re\n",
    "import string\n",
    "\n",
    "import preprocessor as p\n",
    "import csv\n",
    "import sys\n",
    "\n",
    "import datetime\n",
    "import pandas_datareader as pdr\n"
   ]
  },
  {
   "cell_type": "code",
   "execution_count": 16,
   "id": "038715cc-ee80-4e93-82c0-fa08f33423bd",
   "metadata": {},
   "outputs": [
    {
     "name": "stderr",
     "output_type": "stream",
     "text": [
      "Rate limit reached. Sleeping for: 842\n"
     ]
    }
   ],
   "source": [
    "\n",
    "import tweepy\n",
    "import time\n",
    "consumer_key = 'sUvyXKpgWNDh5HL25lpbUnT6K'\n",
    "consumer_secret = 'C9bb39ZgYgvYGogOTq8etVglZb7BRWjgJN1RpviqwpbP23lBwR'\n",
    "access_key= '1458183153344974851-cc4RVlCR0NIEUxgMyTvBZxruXx4uFC'\n",
    "access_secret = 'VdR6PacH0zp0oPQgplUFIUIay3Rwf0mMRtc1DKJwPv053'\n",
    "\n",
    "two_tickers = ['AUDI','BMW','MERCEDES']\n",
    "\n",
    "#Pass twitter credentials to tweepy\n",
    "auth = tweepy.OAuthHandler(consumer_key, consumer_secret)\n",
    "auth.set_access_token(access_key,access_secret)\n",
    "api = tweepy.API(auth,wait_on_rate_limit=True)#,wait_on_rate_limit_notify=True)\n",
    "\n",
    "for ticker in two_tickers:\n",
    "    file = open(\"car_tweets_\"+ticker+\".csv\",\"w\")\n",
    "    alltweets = csv.writer(file)\n",
    "    query = ticker + ' -filter:retweets  -filter:replies'\n",
    "    tweets = tweepy.Cursor(api.search_tweets, q=query, lang='en',tweet_mode = 'extended').items(500)\n",
    "    for tweet in tweets:\n",
    "        status = tweet._json\n",
    "        created_at = status['created_at']\n",
    "        tweet_id = status['id_str']\n",
    "        tweet_text = status['full_text']        \n",
    "        tweet_text = re.sub(r'\\W',' ',tweet_text)\n",
    "        number_rts = status['retweet_count']\n",
    "        fave_cnt = status['favorite_count']\n",
    "\n",
    "        #print(tweet_text)\n",
    "        #blob = TextBlob(tweet_text)\n",
    "        #print('sv='+str(blob.sentiment.polarity))\n",
    "        try:\n",
    "            alltweets.writerow([ticker,created_at,tweet_id, tweet_text, number_rts, fave_cnt])\n",
    "        except tweepy.TweepError:\n",
    "            time.sleep(120) \n",
    "file.close()\n"
   ]
  },
  {
   "cell_type": "code",
   "execution_count": null,
   "id": "9f50ab1a-f308-48f9-80b7-ef168429d065",
   "metadata": {},
   "outputs": [],
   "source": []
  },
  {
   "cell_type": "code",
   "execution_count": null,
   "id": "9b72c486-577c-4c17-be89-c8805b59fbfb",
   "metadata": {},
   "outputs": [],
   "source": []
  }
 ],
 "metadata": {
  "kernelspec": {
   "display_name": "Python 3 (ipykernel)",
   "language": "python",
   "name": "python3"
  },
  "language_info": {
   "codemirror_mode": {
    "name": "ipython",
    "version": 3
   },
   "file_extension": ".py",
   "mimetype": "text/x-python",
   "name": "python",
   "nbconvert_exporter": "python",
   "pygments_lexer": "ipython3",
   "version": "3.9.7"
  }
 },
 "nbformat": 4,
 "nbformat_minor": 5
}
