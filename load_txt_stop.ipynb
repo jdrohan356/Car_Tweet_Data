{
 "cells": [
  {
   "cell_type": "code",
   "execution_count": 4,
   "id": "9f50ab1a-f308-48f9-80b7-ef168429d065",
   "metadata": {},
   "outputs": [
    {
     "name": "stdout",
     "output_type": "stream",
     "text": [
      "['car_tweets_AUDI.csv', 'car_tweets_BMW.csv', 'car_tweets_MERCEDES.csv']\n"
     ]
    }
   ],
   "source": [
    "file_names = ['AUDI','BMW','MERCEDES']\n",
    "txt_files = []\n",
    "for name in file_names:\n",
    "    txt_files.append(\"car_tweets_\"+name+\".csv\")\n",
    "print(txt_files)"
   ]
  },
  {
   "cell_type": "code",
   "execution_count": null,
   "id": "0f55ae56-0015-4a71-8eb0-c1f10b6e44ad",
   "metadata": {},
   "outputs": [],
   "source": [
    "a = load_text(txt_files[0], parser=None)\n",
    "text = a['content'].str.lower()\n",
    "text_con = ''\n",
    "for row in a['content']:\n",
    "    row = row + '.'\n",
    "    text_con += row.lower()"
   ]
  },
  {
   "cell_type": "code",
   "execution_count": null,
   "id": "bb8fe182-6bf9-4f90-aade-ffd101162205",
   "metadata": {},
   "outputs": [],
   "source": [
    "{'wd_ct':{audi:ct_number,bmw:number}}"
   ]
  },
  {
   "cell_type": "code",
   "execution_count": 34,
   "id": "e0cfe4a2-eab9-45a8-b65e-e2a9aa25b87c",
   "metadata": {},
   "outputs": [],
   "source": [
    "from collections import Counter, defaultdict\n",
    "def _default_parser(filename):\n",
    "        results = {\n",
    "            'wordcount': Counter(text_con.split()),\n",
    "            'numwords': len(text_con.split())\n",
    "        }\n",
    "        return results\n",
    "\n",
    "    def read_text(filename, parser=None):\n",
    "    #for name in filename:\n",
    "    columns = ['brand','date','ID','content','retweet_ct','fav_ct']\n",
    "    file = pd.read_csv(filename, sep=',',  names=columns)\n",
    "    return file"
   ]
  },
  {
   "cell_type": "code",
   "execution_count": 138,
   "id": "62660f21-af58-4985-bed7-f99a40d760c1",
   "metadata": {},
   "outputs": [],
   "source": [
    "#default_parser(txt_files[0])\n",
    "import requests\n",
    "def load_stop_words(stopfile=None):\n",
    "        \n",
    "    if stopfile is None:\n",
    "        stopwords_list = requests.get(\"https://gist.githubusercontent.com/rg089/35e00abf8941d72d419224cfd5b5925d/raw/12d899b70156fd0041fa9778d657330b024b959c/stopwords.txt\").content\n",
    "        stopwords = stopwords_list.decode().splitlines()\n",
    "        text = ' '.join([word for word in text_con.split() if word not in stopwords])\n",
    "    else:\n",
    "        with open(stopfile) as f:\n",
    "            for line in f:\n",
    "                stopf = [line.split(',') for line in f]\n",
    "        text = ' '.join([word for word in text_con.split() if word not in stopf])\n",
    "# A list of common or stop words.  These get filtered from each file automatically \n",
    "    return text"
   ]
  },
  {
   "cell_type": "code",
   "execution_count": null,
   "id": "d024e0b8-221e-4260-bca9-2d019b2c554d",
   "metadata": {},
   "outputs": [],
   "source": [
    "\n"
   ]
  },
  {
   "cell_type": "code",
   "execution_count": null,
   "id": "f4629072-d9e1-4f43-ac05-9e85c8a9e6ec",
   "metadata": {},
   "outputs": [],
   "source": []
  }
 ],
 "metadata": {
  "kernelspec": {
   "display_name": "Python 3 (ipykernel)",
   "language": "python",
   "name": "python3"
  },
  "language_info": {
   "codemirror_mode": {
    "name": "ipython",
    "version": 3
   },
   "file_extension": ".py",
   "mimetype": "text/x-python",
   "name": "python",
   "nbconvert_exporter": "python",
   "pygments_lexer": "ipython3",
   "version": "3.9.7"
  }
 },
 "nbformat": 4,
 "nbformat_minor": 5
}
